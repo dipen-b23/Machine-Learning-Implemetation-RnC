{
 "cells": [
  {
   "cell_type": "code",
   "execution_count": 3,
   "id": "5f004613-41aa-4b60-93d8-f5e07ae0c140",
   "metadata": {},
   "outputs": [],
   "source": [
    "import numpy as np\n",
    "import pandas as pd\n",
    "import matplotlib.pyplot as plt"
   ]
  },
  {
   "cell_type": "code",
   "execution_count": 4,
   "id": "2db395c4-cf94-4423-80b7-3ac236bc1d6b",
   "metadata": {},
   "outputs": [
    {
     "name": "stdout",
     "output_type": "stream",
     "text": [
      "      age  sex     bmi  children  smoker      charges  region_northeast  \\\n",
      "543    54    0  47.410         0       1  63770.42801             False   \n",
      "1300   45    1  30.360         0       1  62592.87309             False   \n",
      "1230   52    1  34.485         3       1  60021.39897             False   \n",
      "577    31    0  38.095         1       1  58571.07448              True   \n",
      "819    33    0  35.530         0       1  55135.40209             False   \n",
      "\n",
      "      region_northwest  region_southeast  region_southwest  \n",
      "543              False              True             False  \n",
      "1300             False              True             False  \n",
      "1230              True             False             False  \n",
      "577              False             False             False  \n",
      "819               True             False             False  \n"
     ]
    },
    {
     "data": {
      "text/plain": [
       "(1338, 10)"
      ]
     },
     "execution_count": 4,
     "metadata": {},
     "output_type": "execute_result"
    }
   ],
   "source": [
    "df=pd.read_csv(\"insurance.csv\")\n",
    "df['smoker']=df['smoker'].map({'yes': 1, 'no': 0})\n",
    "df['sex']=df['sex'].map({'male': 1, 'female': 0})\n",
    "df = pd.get_dummies(df, columns=['region'], drop_first=False)\n",
    "df=df.sort_values(by='charges',ascending=False)\n",
    "print(df.head())\n",
    "df.shape"
   ]
  },
  {
   "cell_type": "code",
   "execution_count": 5,
   "id": "d1899bfe-969c-40a2-8825-1cafe56b7d5e",
   "metadata": {},
   "outputs": [],
   "source": [
    "n_entries = len(df)\n",
    "shuffled_indices = np.random.permutation(n_entries)\n",
    "train_size = int(n_entries * 0.8)\n",
    "train_indices = shuffled_indices[:train_size]\n",
    "test_indices = shuffled_indices[train_size:]\n",
    "train_df = df.iloc[train_indices]\n",
    "test_df = df.iloc[test_indices]"
   ]
  },
  {
   "cell_type": "code",
   "execution_count": 6,
   "id": "3066031d-33e4-4b03-8793-f42fb22ec80c",
   "metadata": {},
   "outputs": [
    {
     "data": {
      "text/html": [
       "<div>\n",
       "<style scoped>\n",
       "    .dataframe tbody tr th:only-of-type {\n",
       "        vertical-align: middle;\n",
       "    }\n",
       "\n",
       "    .dataframe tbody tr th {\n",
       "        vertical-align: top;\n",
       "    }\n",
       "\n",
       "    .dataframe thead th {\n",
       "        text-align: right;\n",
       "    }\n",
       "</style>\n",
       "<table border=\"1\" class=\"dataframe\">\n",
       "  <thead>\n",
       "    <tr style=\"text-align: right;\">\n",
       "      <th></th>\n",
       "      <th>age</th>\n",
       "      <th>sex</th>\n",
       "      <th>bmi</th>\n",
       "      <th>children</th>\n",
       "      <th>smoker</th>\n",
       "      <th>charges</th>\n",
       "      <th>region_northeast</th>\n",
       "      <th>region_northwest</th>\n",
       "      <th>region_southeast</th>\n",
       "      <th>region_southwest</th>\n",
       "    </tr>\n",
       "  </thead>\n",
       "  <tbody>\n",
       "    <tr>\n",
       "      <th>458</th>\n",
       "      <td>56</td>\n",
       "      <td>1</td>\n",
       "      <td>39.600</td>\n",
       "      <td>0</td>\n",
       "      <td>0</td>\n",
       "      <td>10601.41200</td>\n",
       "      <td>False</td>\n",
       "      <td>False</td>\n",
       "      <td>False</td>\n",
       "      <td>True</td>\n",
       "    </tr>\n",
       "    <tr>\n",
       "      <th>1007</th>\n",
       "      <td>47</td>\n",
       "      <td>1</td>\n",
       "      <td>28.215</td>\n",
       "      <td>3</td>\n",
       "      <td>1</td>\n",
       "      <td>24915.22085</td>\n",
       "      <td>False</td>\n",
       "      <td>True</td>\n",
       "      <td>False</td>\n",
       "      <td>False</td>\n",
       "    </tr>\n",
       "    <tr>\n",
       "      <th>1129</th>\n",
       "      <td>19</td>\n",
       "      <td>0</td>\n",
       "      <td>18.600</td>\n",
       "      <td>0</td>\n",
       "      <td>0</td>\n",
       "      <td>1728.89700</td>\n",
       "      <td>False</td>\n",
       "      <td>False</td>\n",
       "      <td>False</td>\n",
       "      <td>True</td>\n",
       "    </tr>\n",
       "    <tr>\n",
       "      <th>25</th>\n",
       "      <td>59</td>\n",
       "      <td>0</td>\n",
       "      <td>27.720</td>\n",
       "      <td>3</td>\n",
       "      <td>0</td>\n",
       "      <td>14001.13380</td>\n",
       "      <td>False</td>\n",
       "      <td>False</td>\n",
       "      <td>True</td>\n",
       "      <td>False</td>\n",
       "    </tr>\n",
       "    <tr>\n",
       "      <th>70</th>\n",
       "      <td>27</td>\n",
       "      <td>0</td>\n",
       "      <td>24.750</td>\n",
       "      <td>0</td>\n",
       "      <td>1</td>\n",
       "      <td>16577.77950</td>\n",
       "      <td>False</td>\n",
       "      <td>False</td>\n",
       "      <td>True</td>\n",
       "      <td>False</td>\n",
       "    </tr>\n",
       "  </tbody>\n",
       "</table>\n",
       "</div>"
      ],
      "text/plain": [
       "      age  sex     bmi  children  smoker      charges  region_northeast  \\\n",
       "458    56    1  39.600         0       0  10601.41200             False   \n",
       "1007   47    1  28.215         3       1  24915.22085             False   \n",
       "1129   19    0  18.600         0       0   1728.89700             False   \n",
       "25     59    0  27.720         3       0  14001.13380             False   \n",
       "70     27    0  24.750         0       1  16577.77950             False   \n",
       "\n",
       "      region_northwest  region_southeast  region_southwest  \n",
       "458              False             False              True  \n",
       "1007              True             False             False  \n",
       "1129             False             False              True  \n",
       "25               False              True             False  \n",
       "70               False              True             False  "
      ]
     },
     "execution_count": 6,
     "metadata": {},
     "output_type": "execute_result"
    }
   ],
   "source": [
    "train_df.head()"
   ]
  },
  {
   "cell_type": "code",
   "execution_count": 7,
   "id": "e23441c1-70ee-4f1b-8dd9-256c0c4e7ca1",
   "metadata": {},
   "outputs": [],
   "source": [
    "# plt.figure(figsize=(10, 10))\n",
    "# plt.scatter(df['region'], df['charges'])\n",
    "# plt.title('Medical Charges vs Age')\n",
    "# plt.xlabel('Age')\n",
    "# plt.ylabel('Medical Charges')\n",
    "# plt.grid(True)\n",
    "# plt.show()"
   ]
  },
  {
   "cell_type": "code",
   "execution_count": 8,
   "id": "adcd0f76-cdf1-4251-be52-4e39cd02b26e",
   "metadata": {},
   "outputs": [
    {
     "name": "stdout",
     "output_type": "stream",
     "text": [
      "(1070, 10)\n",
      "(1070, 1)\n",
      "[[ 1.          1.20375552  0.96509478 ... -0.57375304 -0.61263475\n",
      "   1.80167471]\n",
      " [ 1.          0.56394066  0.96509478 ...  1.74291017 -0.61263475\n",
      "  -0.55503915]\n",
      " [ 1.         -1.42659446 -1.03616766 ... -0.57375304 -0.61263475\n",
      "   1.80167471]\n",
      " ...\n",
      " [ 1.         -1.42659446 -1.03616766 ...  1.74291017 -0.61263475\n",
      "  -0.55503915]\n",
      " [ 1.         -0.21805528  0.96509478 ...  1.74291017 -0.61263475\n",
      "  -0.55503915]\n",
      " [ 1.         -1.21332284 -1.03616766 ... -0.57375304  1.63229396\n",
      "  -0.55503915]]\n"
     ]
    }
   ],
   "source": [
    "x = train_df.drop(columns='charges').to_numpy(dtype=float)\n",
    "y = train_df['charges'].to_numpy().reshape(-1, 1).astype(float)\n",
    "\n",
    "\n",
    "mean = np.mean(x, axis=0)\n",
    "std = np.std(x, axis=0)\n",
    "features_scaled = (x - mean) / std\n",
    "\n",
    "bias = np.ones((features_scaled.shape[0], 1))\n",
    "x_scaled = np.concatenate([bias, features_scaled], axis=1)\n",
    "\n",
    "x = x_scaled\n",
    "\n",
    "print(x.shape)\n",
    "print(y.shape)\n",
    "print(x)"
   ]
  },
  {
   "cell_type": "markdown",
   "id": "ac9894c7-ae31-45c5-b72e-9379bb1554b7",
   "metadata": {},
   "source": [
    "theta=((X'X)^-1)(X'Y)"
   ]
  },
  {
   "cell_type": "code",
   "execution_count": 11,
   "id": "f454f630-f3e0-4b74-b0b0-97680e81a476",
   "metadata": {},
   "outputs": [
    {
     "data": {
      "text/plain": [
       "array([[13058.49399663],\n",
       "       [ 3545.53225531],\n",
       "       [  -42.59773035],\n",
       "       [ 2042.891057  ],\n",
       "       [  551.51206484],\n",
       "       [ 9642.12363974],\n",
       "       [  142.61690173],\n",
       "       [ -110.83798163],\n",
       "       [   31.61892417],\n",
       "       [   64.44153997]])"
      ]
     },
     "execution_count": 11,
     "metadata": {},
     "output_type": "execute_result"
    }
   ],
   "source": [
    "theta = np.linalg.inv(x.T@x) @ x.T@y\n",
    "theta"
   ]
  },
  {
   "cell_type": "code",
   "execution_count": 12,
   "id": "b202ace6-61f5-46e4-a271-fcfd908dce0d",
   "metadata": {},
   "outputs": [
    {
     "data": {
      "text/plain": [
       "array([[10601.412  ],\n",
       "       [24915.22085],\n",
       "       [ 1728.897  ],\n",
       "       [14001.1338 ],\n",
       "       [16577.7795 ],\n",
       "       [11833.7823 ],\n",
       "       [ 4266.1658 ],\n",
       "       [ 4433.3877 ],\n",
       "       [17748.5062 ],\n",
       "       [ 1720.3537 ]])"
      ]
     },
     "execution_count": 12,
     "metadata": {},
     "output_type": "execute_result"
    }
   ],
   "source": [
    "y[:10]"
   ]
  },
  {
   "cell_type": "code",
   "execution_count": 13,
   "id": "9832df5f-ed43-466f-9291-99204dbb75d5",
   "metadata": {},
   "outputs": [
    {
     "data": {
      "text/plain": [
       "array([[15023.2459277 ],\n",
       "       [33895.90567669],\n",
       "       [-1238.16614507],\n",
       "       [13187.90899378],\n",
       "       [26733.59059085],\n",
       "       [ 9905.14870293],\n",
       "       [10850.72931482],\n",
       "       [ 6095.29157615],\n",
       "       [25770.13555689],\n",
       "       [ 2623.50487549]])"
      ]
     },
     "execution_count": 13,
     "metadata": {},
     "output_type": "execute_result"
    }
   ],
   "source": [
    "yhat=x @ theta\n",
    "yhat[:10]"
   ]
  },
  {
   "cell_type": "code",
   "execution_count": 14,
   "id": "effe8f11-0cd0-4bcb-978c-8bbbe1cae363",
   "metadata": {},
   "outputs": [
    {
     "name": "stdout",
     "output_type": "stream",
     "text": [
      "R² Score: 0.7560132214388482\n"
     ]
    }
   ],
   "source": [
    "yhat = x @ theta\n",
    "SS_res = np.sum((y - yhat) ** 2)\n",
    "SS_tot = np.sum((y - np.mean(y)) ** 2)\n",
    "R_sq = 1 - (SS_res / SS_tot)\n",
    "print(\"R² Score:\", R_sq)"
   ]
  },
  {
   "cell_type": "markdown",
   "id": "4fe44568-3147-41b6-a962-67159679e1fa",
   "metadata": {},
   "source": [
    "=========================================================================================================="
   ]
  },
  {
   "cell_type": "markdown",
   "id": "17f0a36e-3e1c-40a7-b8af-efca45076dc0",
   "metadata": {},
   "source": [
    "TESTING"
   ]
  },
  {
   "cell_type": "markdown",
   "id": "2625cba0-b90b-4630-b46d-d2d5e2c03a7e",
   "metadata": {},
   "source": [
    "=========================================================================================================="
   ]
  },
  {
   "cell_type": "code",
   "execution_count": 15,
   "id": "89199ac0-c7f8-489a-b2cb-930966923ed1",
   "metadata": {},
   "outputs": [
    {
     "data": {
      "text/html": [
       "<div>\n",
       "<style scoped>\n",
       "    .dataframe tbody tr th:only-of-type {\n",
       "        vertical-align: middle;\n",
       "    }\n",
       "\n",
       "    .dataframe tbody tr th {\n",
       "        vertical-align: top;\n",
       "    }\n",
       "\n",
       "    .dataframe thead th {\n",
       "        text-align: right;\n",
       "    }\n",
       "</style>\n",
       "<table border=\"1\" class=\"dataframe\">\n",
       "  <thead>\n",
       "    <tr style=\"text-align: right;\">\n",
       "      <th></th>\n",
       "      <th>age</th>\n",
       "      <th>sex</th>\n",
       "      <th>bmi</th>\n",
       "      <th>children</th>\n",
       "      <th>smoker</th>\n",
       "      <th>charges</th>\n",
       "      <th>region_northeast</th>\n",
       "      <th>region_northwest</th>\n",
       "      <th>region_southeast</th>\n",
       "      <th>region_southwest</th>\n",
       "    </tr>\n",
       "  </thead>\n",
       "  <tbody>\n",
       "    <tr>\n",
       "      <th>816</th>\n",
       "      <td>24</td>\n",
       "      <td>0</td>\n",
       "      <td>24.225</td>\n",
       "      <td>0</td>\n",
       "      <td>0</td>\n",
       "      <td>2842.76075</td>\n",
       "      <td>False</td>\n",
       "      <td>True</td>\n",
       "      <td>False</td>\n",
       "      <td>False</td>\n",
       "    </tr>\n",
       "    <tr>\n",
       "      <th>441</th>\n",
       "      <td>33</td>\n",
       "      <td>0</td>\n",
       "      <td>33.500</td>\n",
       "      <td>0</td>\n",
       "      <td>1</td>\n",
       "      <td>37079.37200</td>\n",
       "      <td>False</td>\n",
       "      <td>False</td>\n",
       "      <td>False</td>\n",
       "      <td>True</td>\n",
       "    </tr>\n",
       "    <tr>\n",
       "      <th>1280</th>\n",
       "      <td>48</td>\n",
       "      <td>0</td>\n",
       "      <td>33.330</td>\n",
       "      <td>0</td>\n",
       "      <td>0</td>\n",
       "      <td>8283.68070</td>\n",
       "      <td>False</td>\n",
       "      <td>False</td>\n",
       "      <td>True</td>\n",
       "      <td>False</td>\n",
       "    </tr>\n",
       "    <tr>\n",
       "      <th>781</th>\n",
       "      <td>18</td>\n",
       "      <td>1</td>\n",
       "      <td>41.140</td>\n",
       "      <td>0</td>\n",
       "      <td>0</td>\n",
       "      <td>1146.79660</td>\n",
       "      <td>False</td>\n",
       "      <td>False</td>\n",
       "      <td>True</td>\n",
       "      <td>False</td>\n",
       "    </tr>\n",
       "    <tr>\n",
       "      <th>145</th>\n",
       "      <td>29</td>\n",
       "      <td>0</td>\n",
       "      <td>38.830</td>\n",
       "      <td>3</td>\n",
       "      <td>0</td>\n",
       "      <td>5138.25670</td>\n",
       "      <td>False</td>\n",
       "      <td>False</td>\n",
       "      <td>True</td>\n",
       "      <td>False</td>\n",
       "    </tr>\n",
       "  </tbody>\n",
       "</table>\n",
       "</div>"
      ],
      "text/plain": [
       "      age  sex     bmi  children  smoker      charges  region_northeast  \\\n",
       "816    24    0  24.225         0       0   2842.76075             False   \n",
       "441    33    0  33.500         0       1  37079.37200             False   \n",
       "1280   48    0  33.330         0       0   8283.68070             False   \n",
       "781    18    1  41.140         0       0   1146.79660             False   \n",
       "145    29    0  38.830         3       0   5138.25670             False   \n",
       "\n",
       "      region_northwest  region_southeast  region_southwest  \n",
       "816               True             False             False  \n",
       "441              False             False              True  \n",
       "1280             False              True             False  \n",
       "781              False              True             False  \n",
       "145              False              True             False  "
      ]
     },
     "execution_count": 15,
     "metadata": {},
     "output_type": "execute_result"
    }
   ],
   "source": [
    "test_df.head()"
   ]
  },
  {
   "cell_type": "code",
   "execution_count": 16,
   "id": "9dd2d889-8a5f-4dfd-b37d-da1ca3224436",
   "metadata": {},
   "outputs": [
    {
     "name": "stdout",
     "output_type": "stream",
     "text": [
      "(268, 10)\n",
      "(268, 1)\n"
     ]
    }
   ],
   "source": [
    "x_test=test_df.drop(columns='charges').to_numpy(dtype=float)\n",
    "y_test=test_df['charges'].to_numpy().reshape(-1, 1).astype(float)\n",
    "\n",
    "features_scaled = (x_test - mean) / std\n",
    "\n",
    "bias = np.ones((features_scaled.shape[0], 1))\n",
    "x_test_scaled = np.concatenate([bias, features_scaled], axis=1)\n",
    "\n",
    "x_test = x_test_scaled\n",
    "\n",
    "\n",
    "\n",
    "print(x_test.shape)\n",
    "print(y_test.shape)"
   ]
  },
  {
   "cell_type": "code",
   "execution_count": 17,
   "id": "baa9892d-11c7-4b28-861f-5b594bca3521",
   "metadata": {},
   "outputs": [
    {
     "data": {
      "text/plain": [
       "array([[ 1493.99509694],\n",
       "       [31252.08087092],\n",
       "       [10915.00504942],\n",
       "       [ 5879.16257671],\n",
       "       [ 9340.56399954],\n",
       "       [ 7661.42324179],\n",
       "       [ 9655.74562661],\n",
       "       [32516.03619637],\n",
       "       [ 4981.42493287],\n",
       "       [ 2248.36438815]])"
      ]
     },
     "execution_count": 17,
     "metadata": {},
     "output_type": "execute_result"
    }
   ],
   "source": [
    "yhat_test=x_test @ theta\n",
    "yhat_test[:10]"
   ]
  },
  {
   "cell_type": "code",
   "execution_count": 18,
   "id": "1977b8b5-3503-47da-8b9a-bdcd037548e8",
   "metadata": {},
   "outputs": [
    {
     "data": {
      "text/plain": [
       "array([[ 2842.76075],\n",
       "       [37079.372  ],\n",
       "       [ 8283.6807 ],\n",
       "       [ 1146.7966 ],\n",
       "       [ 5138.2567 ],\n",
       "       [ 7623.518  ],\n",
       "       [ 5979.731  ],\n",
       "       [38711.     ],\n",
       "       [ 3866.8552 ],\n",
       "       [ 1815.8759 ]])"
      ]
     },
     "execution_count": 18,
     "metadata": {},
     "output_type": "execute_result"
    }
   ],
   "source": [
    "y_test[:10]"
   ]
  },
  {
   "cell_type": "code",
   "execution_count": 19,
   "id": "cb99ca87-3624-41d9-8f72-a409de4d0a31",
   "metadata": {},
   "outputs": [
    {
     "name": "stdout",
     "output_type": "stream",
     "text": [
      "R² Score: 0.7224948571148682\n"
     ]
    }
   ],
   "source": [
    "SS_res = np.sum((y_test - yhat_test) ** 2)\n",
    "SS_tot = np.sum((y_test - np.mean(y_test)) ** 2)\n",
    "R_sq = 1 - (SS_res / SS_tot)\n",
    "print(\"R² Score:\", R_sq)"
   ]
  }
 ],
 "metadata": {
  "kernelspec": {
   "display_name": "base",
   "language": "python",
   "name": "python3"
  },
  "language_info": {
   "codemirror_mode": {
    "name": "ipython",
    "version": 3
   },
   "file_extension": ".py",
   "mimetype": "text/x-python",
   "name": "python",
   "nbconvert_exporter": "python",
   "pygments_lexer": "ipython3",
   "version": "3.12.7"
  }
 },
 "nbformat": 4,
 "nbformat_minor": 5
}
