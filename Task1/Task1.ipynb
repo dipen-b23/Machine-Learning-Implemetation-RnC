{
 "cells": [
  {
   "cell_type": "code",
   "execution_count": 1,
   "id": "5f004613-41aa-4b60-93d8-f5e07ae0c140",
   "metadata": {},
   "outputs": [],
   "source": [
    "import numpy as np\n",
    "import pandas as pd\n",
    "import matplotlib.pyplot as plt"
   ]
  },
  {
   "cell_type": "code",
   "execution_count": 2,
   "id": "2db395c4-cf94-4423-80b7-3ac236bc1d6b",
   "metadata": {},
   "outputs": [
    {
     "name": "stdout",
     "output_type": "stream",
     "text": [
      "      age  sex     bmi  children  smoker      charges  region_northeast  \\\n",
      "543    54    0  47.410         0       1  63770.42801             False   \n",
      "1300   45    1  30.360         0       1  62592.87309             False   \n",
      "1230   52    1  34.485         3       1  60021.39897             False   \n",
      "577    31    0  38.095         1       1  58571.07448              True   \n",
      "819    33    0  35.530         0       1  55135.40209             False   \n",
      "\n",
      "      region_northwest  region_southeast  region_southwest  \n",
      "543              False              True             False  \n",
      "1300             False              True             False  \n",
      "1230              True             False             False  \n",
      "577              False             False             False  \n",
      "819               True             False             False  \n"
     ]
    },
    {
     "data": {
      "text/plain": [
       "(1338, 10)"
      ]
     },
     "execution_count": 2,
     "metadata": {},
     "output_type": "execute_result"
    }
   ],
   "source": [
    "df=pd.read_csv(\"insurance.csv\")\n",
    "df['smoker']=df['smoker'].map({'yes': 1, 'no': 0})\n",
    "df['sex']=df['sex'].map({'male': 1, 'female': 0})\n",
    "df = pd.get_dummies(df, columns=['region'], drop_first=False)\n",
    "df=df.sort_values(by='charges',ascending=False)\n",
    "print(df.head())\n",
    "df.shape"
   ]
  },
  {
   "cell_type": "code",
   "execution_count": 3,
   "id": "d1899bfe-969c-40a2-8825-1cafe56b7d5e",
   "metadata": {},
   "outputs": [],
   "source": [
    "n_entries = len(df)\n",
    "shuffled_indices = np.random.permutation(n_entries)\n",
    "train_size = int(n_entries * 0.8)\n",
    "train_indices = shuffled_indices[:train_size]\n",
    "test_indices = shuffled_indices[train_size:]\n",
    "train_df = df.iloc[train_indices]\n",
    "test_df = df.iloc[test_indices]"
   ]
  },
  {
   "cell_type": "code",
   "execution_count": 4,
   "id": "3066031d-33e4-4b03-8793-f42fb22ec80c",
   "metadata": {},
   "outputs": [
    {
     "data": {
      "text/html": [
       "<div>\n",
       "<style scoped>\n",
       "    .dataframe tbody tr th:only-of-type {\n",
       "        vertical-align: middle;\n",
       "    }\n",
       "\n",
       "    .dataframe tbody tr th {\n",
       "        vertical-align: top;\n",
       "    }\n",
       "\n",
       "    .dataframe thead th {\n",
       "        text-align: right;\n",
       "    }\n",
       "</style>\n",
       "<table border=\"1\" class=\"dataframe\">\n",
       "  <thead>\n",
       "    <tr style=\"text-align: right;\">\n",
       "      <th></th>\n",
       "      <th>age</th>\n",
       "      <th>sex</th>\n",
       "      <th>bmi</th>\n",
       "      <th>children</th>\n",
       "      <th>smoker</th>\n",
       "      <th>charges</th>\n",
       "      <th>region_northeast</th>\n",
       "      <th>region_northwest</th>\n",
       "      <th>region_southeast</th>\n",
       "      <th>region_southwest</th>\n",
       "    </tr>\n",
       "  </thead>\n",
       "  <tbody>\n",
       "    <tr>\n",
       "      <th>766</th>\n",
       "      <td>47</td>\n",
       "      <td>1</td>\n",
       "      <td>32.30</td>\n",
       "      <td>1</td>\n",
       "      <td>0</td>\n",
       "      <td>8062.7640</td>\n",
       "      <td>False</td>\n",
       "      <td>False</td>\n",
       "      <td>False</td>\n",
       "      <td>True</td>\n",
       "    </tr>\n",
       "    <tr>\n",
       "      <th>248</th>\n",
       "      <td>19</td>\n",
       "      <td>1</td>\n",
       "      <td>20.90</td>\n",
       "      <td>1</td>\n",
       "      <td>0</td>\n",
       "      <td>1832.0940</td>\n",
       "      <td>False</td>\n",
       "      <td>False</td>\n",
       "      <td>False</td>\n",
       "      <td>True</td>\n",
       "    </tr>\n",
       "    <tr>\n",
       "      <th>1330</th>\n",
       "      <td>57</td>\n",
       "      <td>0</td>\n",
       "      <td>25.74</td>\n",
       "      <td>2</td>\n",
       "      <td>0</td>\n",
       "      <td>12629.1656</td>\n",
       "      <td>False</td>\n",
       "      <td>False</td>\n",
       "      <td>True</td>\n",
       "      <td>False</td>\n",
       "    </tr>\n",
       "    <tr>\n",
       "      <th>776</th>\n",
       "      <td>40</td>\n",
       "      <td>1</td>\n",
       "      <td>32.30</td>\n",
       "      <td>2</td>\n",
       "      <td>0</td>\n",
       "      <td>6986.6970</td>\n",
       "      <td>False</td>\n",
       "      <td>True</td>\n",
       "      <td>False</td>\n",
       "      <td>False</td>\n",
       "    </tr>\n",
       "    <tr>\n",
       "      <th>1083</th>\n",
       "      <td>32</td>\n",
       "      <td>1</td>\n",
       "      <td>31.50</td>\n",
       "      <td>1</td>\n",
       "      <td>0</td>\n",
       "      <td>4076.4970</td>\n",
       "      <td>False</td>\n",
       "      <td>False</td>\n",
       "      <td>False</td>\n",
       "      <td>True</td>\n",
       "    </tr>\n",
       "  </tbody>\n",
       "</table>\n",
       "</div>"
      ],
      "text/plain": [
       "      age  sex    bmi  children  smoker     charges  region_northeast  \\\n",
       "766    47    1  32.30         1       0   8062.7640             False   \n",
       "248    19    1  20.90         1       0   1832.0940             False   \n",
       "1330   57    0  25.74         2       0  12629.1656             False   \n",
       "776    40    1  32.30         2       0   6986.6970             False   \n",
       "1083   32    1  31.50         1       0   4076.4970             False   \n",
       "\n",
       "      region_northwest  region_southeast  region_southwest  \n",
       "766              False             False              True  \n",
       "248              False             False              True  \n",
       "1330             False              True             False  \n",
       "776               True             False             False  \n",
       "1083             False             False              True  "
      ]
     },
     "execution_count": 4,
     "metadata": {},
     "output_type": "execute_result"
    }
   ],
   "source": [
    "train_df.head()"
   ]
  },
  {
   "cell_type": "code",
   "execution_count": 6,
   "id": "e23441c1-70ee-4f1b-8dd9-256c0c4e7ca1",
   "metadata": {},
   "outputs": [],
   "source": [
    "# plt.figure(figsize=(10, 10))\n",
    "# plt.scatter(df['region'], df['charges'])\n",
    "# plt.title('Medical Charges vs Age')\n",
    "# plt.xlabel('Age')\n",
    "# plt.ylabel('Medical Charges')\n",
    "# plt.grid(True)\n",
    "# plt.show()"
   ]
  },
  {
   "cell_type": "code",
   "execution_count": 29,
   "id": "adcd0f76-cdf1-4251-be52-4e39cd02b26e",
   "metadata": {},
   "outputs": [
    {
     "name": "stdout",
     "output_type": "stream",
     "text": [
      "(1070, 10)\n",
      "(1070, 1)\n",
      "[[ 1.          0.56056989  0.97052758 ... -0.56079971 -0.60110162\n",
      "   1.75612342]\n",
      " [ 1.         -1.43026392  0.97052758 ... -0.56079971 -0.60110162\n",
      "   1.75612342]\n",
      " [ 1.          1.27158197 -1.03036743 ... -0.56079971  1.66361222\n",
      "  -0.56943606]\n",
      " ...\n",
      " [ 1.          0.48946869 -1.03036743 ... -0.56079971  1.66361222\n",
      "  -0.56943606]\n",
      " [ 1.         -0.86145426  0.97052758 ... -0.56079971 -0.60110162\n",
      "  -0.56943606]\n",
      " [ 1.          0.41836748  0.97052758 ... -0.56079971 -0.60110162\n",
      "  -0.56943606]]\n"
     ]
    }
   ],
   "source": [
    "x = train_df.drop(columns='charges').to_numpy(dtype=float)\n",
    "y = train_df['charges'].to_numpy().reshape(-1, 1).astype(float)\n",
    "\n",
    "\n",
    "mean = np.mean(x, axis=0)\n",
    "std = np.std(x, axis=0)\n",
    "features_scaled = (x - mean) / std\n",
    "\n",
    "bias = np.ones((features_scaled.shape[0], 1))\n",
    "x_scaled = np.concatenate([bias, features_scaled], axis=1)\n",
    "\n",
    "x = x_scaled\n",
    "\n",
    "print(x.shape)\n",
    "print(y.shape)\n",
    "print(x)"
   ]
  },
  {
   "cell_type": "markdown",
   "id": "777e8683-efa6-4e64-ad22-30af77dda67b",
   "metadata": {},
   "source": [
    "(X'X)"
   ]
  },
  {
   "cell_type": "code",
   "execution_count": 20,
   "id": "966de06a-c012-429f-958c-a4ed7f226343",
   "metadata": {},
   "outputs": [
    {
     "data": {
      "text/plain": [
       "array([[ 1.07000000e+03,  6.83897383e-14, -7.10542736e-15,\n",
       "        -1.03117515e-12, -8.52651283e-14, -3.99680289e-15,\n",
       "        -2.39808173e-13,  4.70734562e-14, -1.63424829e-13,\n",
       "         1.40332190e-13],\n",
       "       [ 6.83897383e-14,  1.07000000e+03, -5.54630182e+01,\n",
       "         1.00769169e+02,  6.28782821e+01, -4.03277385e+01,\n",
       "         2.03387786e+01,  8.22173633e+00, -2.24018842e+00,\n",
       "        -2.63506226e+01],\n",
       "       [-7.10542736e-15, -5.54630182e+01,  1.07000000e+03,\n",
       "         3.75470062e+01,  2.67345255e+01,  1.09703288e+02,\n",
       "        -4.65252247e+00,  8.06510335e-01,  1.24763227e+01,\n",
       "        -8.92370756e+00],\n",
       "       [-1.03117515e-12,  1.00769169e+02,  3.75470062e+01,\n",
       "         1.07000000e+03,  2.24777581e+01,  1.45290910e+01,\n",
       "        -1.63635876e+02, -1.23080841e+02,  2.84260555e+02,\n",
       "        -4.90014653e+00],\n",
       "       [-8.52651283e-14,  6.28782821e+01,  2.67345255e+01,\n",
       "         2.24777581e+01,  1.07000000e+03,  1.14686001e+01,\n",
       "        -1.89154182e+01,  3.07253444e-01, -6.76920465e+00,\n",
       "         2.57058496e+01],\n",
       "       [-3.99680289e-15, -4.03277385e+01,  1.09703288e+02,\n",
       "         1.45290910e+01,  1.14686001e+01,  1.07000000e+03,\n",
       "         9.38826022e+00, -6.29658866e+01,  6.34510657e+01,\n",
       "        -1.21442324e+01],\n",
       "       [-2.39808173e-13,  2.03387786e+01, -4.65252247e+00,\n",
       "        -1.63635876e+02, -1.89154182e+01,  9.38826022e+00,\n",
       "         1.07000000e+03, -3.46874018e+02, -3.71802142e+02,\n",
       "        -3.52215899e+02],\n",
       "       [ 4.70734562e-14,  8.22173633e+00,  8.06510335e-01,\n",
       "        -1.23080841e+02,  3.07253444e-01, -6.29658866e+01,\n",
       "        -3.46874018e+02,  1.07000000e+03, -3.60694446e+02,\n",
       "        -3.41693347e+02],\n",
       "       [-1.63424829e-13, -2.24018842e+00,  1.24763227e+01,\n",
       "         2.84260555e+02, -6.76920465e+00,  6.34510657e+01,\n",
       "        -3.71802142e+02, -3.60694446e+02,  1.07000000e+03,\n",
       "        -3.66249162e+02],\n",
       "       [ 1.40332190e-13, -2.63506226e+01, -8.92370756e+00,\n",
       "        -4.90014653e+00,  2.57058496e+01, -1.21442324e+01,\n",
       "        -3.52215899e+02, -3.41693347e+02, -3.66249162e+02,\n",
       "         1.07000000e+03]])"
      ]
     },
     "execution_count": 20,
     "metadata": {},
     "output_type": "execute_result"
    }
   ],
   "source": [
    "xt_x = x.T@x\n",
    "xt_x=xt_x.astype(float)\n",
    "xt_x"
   ]
  },
  {
   "cell_type": "markdown",
   "id": "ccd9e56f-cc9f-411b-876a-7f38138cdeb2",
   "metadata": {},
   "source": [
    "(X'Y)"
   ]
  },
  {
   "cell_type": "markdown",
   "id": "ac9894c7-ae31-45c5-b72e-9379bb1554b7",
   "metadata": {},
   "source": [
    "theta=((X'X)^-1)(X'Y)"
   ]
  },
  {
   "cell_type": "code",
   "execution_count": 22,
   "id": "f454f630-f3e0-4b74-b0b0-97680e81a476",
   "metadata": {},
   "outputs": [
    {
     "data": {
      "text/plain": [
       "array([[13326.10391927],\n",
       "       [ 3577.19085044],\n",
       "       [  -93.06403699],\n",
       "       [ 2280.80256001],\n",
       "       [  602.95936123],\n",
       "       [ 9774.39274302],\n",
       "       [-2304.        ],\n",
       "       [-3584.        ],\n",
       "       [-3072.        ],\n",
       "       [-2816.        ]])"
      ]
     },
     "execution_count": 22,
     "metadata": {},
     "output_type": "execute_result"
    }
   ],
   "source": [
    "theta = np.linalg.inv(xt_x) @ xt_y\n",
    "theta"
   ]
  },
  {
   "cell_type": "code",
   "execution_count": 23,
   "id": "b202ace6-61f5-46e4-a271-fcfd908dce0d",
   "metadata": {},
   "outputs": [
    {
     "data": {
      "text/plain": [
       "array([[ 8062.764  ],\n",
       "       [ 1832.094  ],\n",
       "       [12629.1656 ],\n",
       "       [ 6986.697  ],\n",
       "       [ 4076.497  ],\n",
       "       [ 4350.5144 ],\n",
       "       [ 7789.635  ],\n",
       "       [38245.59327],\n",
       "       [ 2803.69785],\n",
       "       [ 2395.17155]])"
      ]
     },
     "execution_count": 23,
     "metadata": {},
     "output_type": "execute_result"
    }
   ],
   "source": [
    "y[:10]"
   ]
  },
  {
   "cell_type": "code",
   "execution_count": 36,
   "id": "9832df5f-ed43-466f-9291-99204dbb75d5",
   "metadata": {},
   "outputs": [
    {
     "data": {
      "text/plain": [
       "array([[11061.97803719],\n",
       "       [ -308.13481707],\n",
       "       [11430.11405596],\n",
       "       [ 7921.26254469],\n",
       "       [ 6948.69742309],\n",
       "       [ 5637.34378575],\n",
       "       [ 9447.24762109],\n",
       "       [31204.85881196],\n",
       "       [-1774.66519603],\n",
       "       [ 2546.30757944]])"
      ]
     },
     "execution_count": 36,
     "metadata": {},
     "output_type": "execute_result"
    }
   ],
   "source": [
    "yhat=x @ theta\n",
    "yhat[:10]"
   ]
  },
  {
   "cell_type": "code",
   "execution_count": 37,
   "id": "effe8f11-0cd0-4bcb-978c-8bbbe1cae363",
   "metadata": {},
   "outputs": [
    {
     "name": "stdout",
     "output_type": "stream",
     "text": [
      "R² Score: 0.753038849450587\n"
     ]
    }
   ],
   "source": [
    "yhat = x @ theta\n",
    "SS_res = np.sum((y - yhat) ** 2)\n",
    "SS_tot = np.sum((y - np.mean(y)) ** 2)\n",
    "R_sq = 1 - (SS_res / SS_tot)\n",
    "print(\"R² Score:\", R_sq)"
   ]
  },
  {
   "cell_type": "markdown",
   "id": "4fe44568-3147-41b6-a962-67159679e1fa",
   "metadata": {},
   "source": [
    "=========================================================================================================="
   ]
  },
  {
   "cell_type": "markdown",
   "id": "17f0a36e-3e1c-40a7-b8af-efca45076dc0",
   "metadata": {},
   "source": [
    "TESTING"
   ]
  },
  {
   "cell_type": "markdown",
   "id": "2625cba0-b90b-4630-b46d-d2d5e2c03a7e",
   "metadata": {},
   "source": [
    "=========================================================================================================="
   ]
  },
  {
   "cell_type": "code",
   "execution_count": 15,
   "id": "89199ac0-c7f8-489a-b2cb-930966923ed1",
   "metadata": {},
   "outputs": [
    {
     "data": {
      "text/html": [
       "<div>\n",
       "<style scoped>\n",
       "    .dataframe tbody tr th:only-of-type {\n",
       "        vertical-align: middle;\n",
       "    }\n",
       "\n",
       "    .dataframe tbody tr th {\n",
       "        vertical-align: top;\n",
       "    }\n",
       "\n",
       "    .dataframe thead th {\n",
       "        text-align: right;\n",
       "    }\n",
       "</style>\n",
       "<table border=\"1\" class=\"dataframe\">\n",
       "  <thead>\n",
       "    <tr style=\"text-align: right;\">\n",
       "      <th></th>\n",
       "      <th>age</th>\n",
       "      <th>sex</th>\n",
       "      <th>bmi</th>\n",
       "      <th>children</th>\n",
       "      <th>smoker</th>\n",
       "      <th>charges</th>\n",
       "      <th>region_northeast</th>\n",
       "      <th>region_northwest</th>\n",
       "      <th>region_southeast</th>\n",
       "      <th>region_southwest</th>\n",
       "    </tr>\n",
       "  </thead>\n",
       "  <tbody>\n",
       "    <tr>\n",
       "      <th>1213</th>\n",
       "      <td>52</td>\n",
       "      <td>0</td>\n",
       "      <td>33.300</td>\n",
       "      <td>2</td>\n",
       "      <td>0</td>\n",
       "      <td>10806.83900</td>\n",
       "      <td>False</td>\n",
       "      <td>False</td>\n",
       "      <td>False</td>\n",
       "      <td>True</td>\n",
       "    </tr>\n",
       "    <tr>\n",
       "      <th>232</th>\n",
       "      <td>19</td>\n",
       "      <td>0</td>\n",
       "      <td>17.800</td>\n",
       "      <td>0</td>\n",
       "      <td>0</td>\n",
       "      <td>1727.78500</td>\n",
       "      <td>False</td>\n",
       "      <td>False</td>\n",
       "      <td>False</td>\n",
       "      <td>True</td>\n",
       "    </tr>\n",
       "    <tr>\n",
       "      <th>81</th>\n",
       "      <td>45</td>\n",
       "      <td>0</td>\n",
       "      <td>38.285</td>\n",
       "      <td>0</td>\n",
       "      <td>0</td>\n",
       "      <td>7935.29115</td>\n",
       "      <td>True</td>\n",
       "      <td>False</td>\n",
       "      <td>False</td>\n",
       "      <td>False</td>\n",
       "    </tr>\n",
       "    <tr>\n",
       "      <th>537</th>\n",
       "      <td>46</td>\n",
       "      <td>0</td>\n",
       "      <td>30.200</td>\n",
       "      <td>2</td>\n",
       "      <td>0</td>\n",
       "      <td>8825.08600</td>\n",
       "      <td>False</td>\n",
       "      <td>False</td>\n",
       "      <td>False</td>\n",
       "      <td>True</td>\n",
       "    </tr>\n",
       "    <tr>\n",
       "      <th>120</th>\n",
       "      <td>44</td>\n",
       "      <td>1</td>\n",
       "      <td>37.100</td>\n",
       "      <td>2</td>\n",
       "      <td>0</td>\n",
       "      <td>7740.33700</td>\n",
       "      <td>False</td>\n",
       "      <td>False</td>\n",
       "      <td>False</td>\n",
       "      <td>True</td>\n",
       "    </tr>\n",
       "  </tbody>\n",
       "</table>\n",
       "</div>"
      ],
      "text/plain": [
       "      age  sex     bmi  children  smoker      charges  region_northeast  \\\n",
       "1213   52    0  33.300         2       0  10806.83900             False   \n",
       "232    19    0  17.800         0       0   1727.78500             False   \n",
       "81     45    0  38.285         0       0   7935.29115              True   \n",
       "537    46    0  30.200         2       0   8825.08600             False   \n",
       "120    44    1  37.100         2       0   7740.33700             False   \n",
       "\n",
       "      region_northwest  region_southeast  region_southwest  \n",
       "1213             False             False              True  \n",
       "232              False             False              True  \n",
       "81               False             False             False  \n",
       "537              False             False              True  \n",
       "120              False             False              True  "
      ]
     },
     "execution_count": 15,
     "metadata": {},
     "output_type": "execute_result"
    }
   ],
   "source": [
    "test_df.head()"
   ]
  },
  {
   "cell_type": "code",
   "execution_count": 31,
   "id": "9dd2d889-8a5f-4dfd-b37d-da1ca3224436",
   "metadata": {},
   "outputs": [
    {
     "name": "stdout",
     "output_type": "stream",
     "text": [
      "(268, 10)\n",
      "(268, 1)\n"
     ]
    }
   ],
   "source": [
    "x_test=test_df.drop(columns='charges').to_numpy(dtype=float)\n",
    "y_test=test_df['charges'].to_numpy().reshape(-1, 1).astype(float)\n",
    "\n",
    "features_scaled = (x_test - mean) / std\n",
    "\n",
    "bias = np.ones((features_scaled.shape[0], 1))\n",
    "x_test_scaled = np.concatenate([bias, features_scaled], axis=1)\n",
    "\n",
    "x_test = x_test_scaled\n",
    "\n",
    "\n",
    "\n",
    "print(x_test.shape)\n",
    "print(y_test.shape)"
   ]
  },
  {
   "cell_type": "code",
   "execution_count": 35,
   "id": "baa9892d-11c7-4b28-861f-5b594bca3521",
   "metadata": {},
   "outputs": [
    {
     "data": {
      "text/plain": [
       "array([[13384.2663625 ],\n",
       "       [-1768.90963702],\n",
       "       [13709.51503014],\n",
       "       [10702.91143166],\n",
       "       [12579.48773907],\n",
       "       [33176.1410662 ],\n",
       "       [13038.154082  ],\n",
       "       [13945.51511271],\n",
       "       [11602.32099333],\n",
       "       [24653.14811734]])"
      ]
     },
     "execution_count": 35,
     "metadata": {},
     "output_type": "execute_result"
    }
   ],
   "source": [
    "yhat_test=x_test @ theta\n",
    "yhat_test[:10]"
   ]
  },
  {
   "cell_type": "code",
   "execution_count": 34,
   "id": "1977b8b5-3503-47da-8b9a-bdcd037548e8",
   "metadata": {},
   "outputs": [
    {
     "data": {
      "text/plain": [
       "array([[10806.839  ],\n",
       "       [ 1727.785  ],\n",
       "       [ 7935.29115],\n",
       "       [ 8825.086  ],\n",
       "       [ 7740.337  ],\n",
       "       [37701.8768 ],\n",
       "       [10560.4917 ],\n",
       "       [10381.4787 ],\n",
       "       [ 5709.1644 ],\n",
       "       [17748.5062 ]])"
      ]
     },
     "execution_count": 34,
     "metadata": {},
     "output_type": "execute_result"
    }
   ],
   "source": [
    "y_test[:10]"
   ]
  },
  {
   "cell_type": "code",
   "execution_count": 39,
   "id": "cb99ca87-3624-41d9-8f72-a409de4d0a31",
   "metadata": {},
   "outputs": [
    {
     "name": "stdout",
     "output_type": "stream",
     "text": [
      "R² Score: 0.6966883742455382\n"
     ]
    }
   ],
   "source": [
    "SS_res = np.sum((y_test - yhat_test) ** 2)\n",
    "SS_tot = np.sum((y_test - np.mean(y_test)) ** 2)\n",
    "R_sq = 1 - (SS_res / SS_tot)\n",
    "print(\"R² Score:\", R_sq)"
   ]
  },
  {
   "cell_type": "code",
   "execution_count": null,
   "id": "c602d2d7-367e-446a-b006-83b889e68c81",
   "metadata": {},
   "outputs": [],
   "source": []
  }
 ],
 "metadata": {
  "kernelspec": {
   "display_name": "Python 3 (ipykernel)",
   "language": "python",
   "name": "python3"
  },
  "language_info": {
   "codemirror_mode": {
    "name": "ipython",
    "version": 3
   },
   "file_extension": ".py",
   "mimetype": "text/x-python",
   "name": "python",
   "nbconvert_exporter": "python",
   "pygments_lexer": "ipython3",
   "version": "3.12.7"
  }
 },
 "nbformat": 4,
 "nbformat_minor": 5
}
