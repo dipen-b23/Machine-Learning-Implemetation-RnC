{
 "cells": [
  {
   "cell_type": "code",
   "execution_count": 2,
   "id": "e960d62e-ffff-4f76-89cd-27be36e372b2",
   "metadata": {},
   "outputs": [],
   "source": [
    "import numpy as np\n",
    "import pandas as pd\n",
    "import matplotlib.pyplot as plt"
   ]
  },
  {
   "cell_type": "code",
   "execution_count": 3,
   "id": "27477cab-fa47-4880-b2ba-7e1ec1b23ec1",
   "metadata": {},
   "outputs": [],
   "source": [
    "df=pd.read_csv(\"boston.csv\")"
   ]
  },
  {
   "cell_type": "code",
   "execution_count": 4,
   "id": "8990b19c-b93a-4b61-ae31-2e529239efee",
   "metadata": {},
   "outputs": [],
   "source": [
    "n_entries = len(df)\n",
    "shuffled_indices = np.random.permutation(n_entries)\n",
    "train_size = int(n_entries * 0.8)\n",
    "train_indices = shuffled_indices[:train_size]\n",
    "test_indices = shuffled_indices[train_size:]\n",
    "train_df = df.iloc[train_indices]\n",
    "test_df = df.iloc[test_indices]\n",
    "train_df.to_csv(\"trainingdataset.csv\")\n",
    "test_df.to_csv(\"testingdataset.csv\")"
   ]
  },
  {
   "cell_type": "code",
   "execution_count": 17,
   "id": "e2f2f8bb-3291-4769-866a-0b6ca5c0f7a5",
   "metadata": {
    "scrolled": true
   },
   "outputs": [
    {
     "data": {
      "text/html": [
       "<div>\n",
       "<style scoped>\n",
       "    .dataframe tbody tr th:only-of-type {\n",
       "        vertical-align: middle;\n",
       "    }\n",
       "\n",
       "    .dataframe tbody tr th {\n",
       "        vertical-align: top;\n",
       "    }\n",
       "\n",
       "    .dataframe thead th {\n",
       "        text-align: right;\n",
       "    }\n",
       "</style>\n",
       "<table border=\"1\" class=\"dataframe\">\n",
       "  <thead>\n",
       "    <tr style=\"text-align: right;\">\n",
       "      <th></th>\n",
       "      <th>CRIM</th>\n",
       "      <th>ZN</th>\n",
       "      <th>INDUS</th>\n",
       "      <th>CHAS</th>\n",
       "      <th>NOX</th>\n",
       "      <th>RM</th>\n",
       "      <th>AGE</th>\n",
       "      <th>DIS</th>\n",
       "      <th>RAD</th>\n",
       "      <th>TAX</th>\n",
       "      <th>PTRATIO</th>\n",
       "      <th>B</th>\n",
       "      <th>LSTAT</th>\n",
       "      <th>MEDV</th>\n",
       "    </tr>\n",
       "  </thead>\n",
       "  <tbody>\n",
       "    <tr>\n",
       "      <th>24</th>\n",
       "      <td>0.75026</td>\n",
       "      <td>0.0</td>\n",
       "      <td>8.14</td>\n",
       "      <td>0</td>\n",
       "      <td>0.538</td>\n",
       "      <td>5.924</td>\n",
       "      <td>94.1</td>\n",
       "      <td>4.3996</td>\n",
       "      <td>4</td>\n",
       "      <td>307.0</td>\n",
       "      <td>21.0</td>\n",
       "      <td>394.33</td>\n",
       "      <td>16.30</td>\n",
       "      <td>15.6</td>\n",
       "    </tr>\n",
       "    <tr>\n",
       "      <th>197</th>\n",
       "      <td>0.04666</td>\n",
       "      <td>80.0</td>\n",
       "      <td>1.52</td>\n",
       "      <td>0</td>\n",
       "      <td>0.404</td>\n",
       "      <td>7.107</td>\n",
       "      <td>36.6</td>\n",
       "      <td>7.3090</td>\n",
       "      <td>2</td>\n",
       "      <td>329.0</td>\n",
       "      <td>12.6</td>\n",
       "      <td>354.31</td>\n",
       "      <td>8.61</td>\n",
       "      <td>30.3</td>\n",
       "    </tr>\n",
       "    <tr>\n",
       "      <th>473</th>\n",
       "      <td>4.64689</td>\n",
       "      <td>0.0</td>\n",
       "      <td>18.10</td>\n",
       "      <td>0</td>\n",
       "      <td>0.614</td>\n",
       "      <td>6.980</td>\n",
       "      <td>67.6</td>\n",
       "      <td>2.5329</td>\n",
       "      <td>24</td>\n",
       "      <td>666.0</td>\n",
       "      <td>20.2</td>\n",
       "      <td>374.68</td>\n",
       "      <td>11.66</td>\n",
       "      <td>29.8</td>\n",
       "    </tr>\n",
       "    <tr>\n",
       "      <th>102</th>\n",
       "      <td>0.22876</td>\n",
       "      <td>0.0</td>\n",
       "      <td>8.56</td>\n",
       "      <td>0</td>\n",
       "      <td>0.520</td>\n",
       "      <td>6.405</td>\n",
       "      <td>85.4</td>\n",
       "      <td>2.7147</td>\n",
       "      <td>5</td>\n",
       "      <td>384.0</td>\n",
       "      <td>20.9</td>\n",
       "      <td>70.80</td>\n",
       "      <td>10.63</td>\n",
       "      <td>18.6</td>\n",
       "    </tr>\n",
       "    <tr>\n",
       "      <th>7</th>\n",
       "      <td>0.14455</td>\n",
       "      <td>12.5</td>\n",
       "      <td>7.87</td>\n",
       "      <td>0</td>\n",
       "      <td>0.524</td>\n",
       "      <td>6.172</td>\n",
       "      <td>96.1</td>\n",
       "      <td>5.9505</td>\n",
       "      <td>5</td>\n",
       "      <td>311.0</td>\n",
       "      <td>15.2</td>\n",
       "      <td>396.90</td>\n",
       "      <td>19.15</td>\n",
       "      <td>27.1</td>\n",
       "    </tr>\n",
       "  </tbody>\n",
       "</table>\n",
       "</div>"
      ],
      "text/plain": [
       "        CRIM    ZN  INDUS  CHAS    NOX     RM   AGE     DIS  RAD    TAX  \\\n",
       "24   0.75026   0.0   8.14     0  0.538  5.924  94.1  4.3996    4  307.0   \n",
       "197  0.04666  80.0   1.52     0  0.404  7.107  36.6  7.3090    2  329.0   \n",
       "473  4.64689   0.0  18.10     0  0.614  6.980  67.6  2.5329   24  666.0   \n",
       "102  0.22876   0.0   8.56     0  0.520  6.405  85.4  2.7147    5  384.0   \n",
       "7    0.14455  12.5   7.87     0  0.524  6.172  96.1  5.9505    5  311.0   \n",
       "\n",
       "     PTRATIO       B  LSTAT  MEDV  \n",
       "24      21.0  394.33  16.30  15.6  \n",
       "197     12.6  354.31   8.61  30.3  \n",
       "473     20.2  374.68  11.66  29.8  \n",
       "102     20.9   70.80  10.63  18.6  \n",
       "7       15.2  396.90  19.15  27.1  "
      ]
     },
     "execution_count": 17,
     "metadata": {},
     "output_type": "execute_result"
    }
   ],
   "source": [
    "train_df.head()"
   ]
  },
  {
   "cell_type": "code",
   "execution_count": 6,
   "id": "e8dc899e-0b3d-46c7-bcb3-32e021373fee",
   "metadata": {
    "scrolled": true
   },
   "outputs": [
    {
     "name": "stdout",
     "output_type": "stream",
     "text": [
      "(404, 14)\n",
      "(404, 1)\n",
      "[[ 1.         -0.33266261 -0.50408189 ...  1.15506675  0.41882623\n",
      "   0.49444489]\n",
      " [ 1.         -0.40998946  2.8543858  ... -2.74487805 -0.01639277\n",
      "  -0.56410248]\n",
      " [ 1.          0.09558373 -0.50408189 ...  0.78364343  0.20513174\n",
      "  -0.1442625 ]\n",
      " ...\n",
      " [ 1.          3.72399008 -0.50408189 ...  0.78364343 -3.66485911\n",
      "   0.24942352]\n",
      " [ 1.          3.79981127 -0.50408189 ...  0.78364343  0.44677507\n",
      "   2.46149846]\n",
      " [ 1.          0.99187731 -0.50408189 ...  0.78364343 -1.25386329\n",
      "   1.52546177]]\n"
     ]
    }
   ],
   "source": [
    "x=train_df.drop(columns='MEDV').to_numpy(dtype=float)\n",
    "y=train_df['MEDV'].values.reshape(-1,1)\n",
    "\n",
    "mean = np.mean(x, axis=0)\n",
    "std = np.std(x, axis=0)\n",
    "features_scaled = (x - mean) / std\n",
    "\n",
    "bias = np.ones((x.shape[0], 1))\n",
    "x_scaled = np.concatenate([bias, features_scaled], axis=1)\n",
    "\n",
    "x = x_scaled\n",
    "\n",
    "print(x.shape)\n",
    "print(y.shape)\n",
    "print(x)"
   ]
  },
  {
   "cell_type": "code",
   "execution_count": 7,
   "id": "e1bfe90e-bb21-46b5-9eb4-295b2311eab0",
   "metadata": {},
   "outputs": [
    {
     "data": {
      "text/plain": [
       "array([[22.39727723],\n",
       "       [-1.10018417],\n",
       "       [ 1.0638435 ],\n",
       "       [-0.08875959],\n",
       "       [ 0.58988386],\n",
       "       [-1.70071326],\n",
       "       [ 2.68691112],\n",
       "       [-0.32353847],\n",
       "       [-3.26726455],\n",
       "       [ 2.41149875],\n",
       "       [-1.80059285],\n",
       "       [-2.20432421],\n",
       "       [ 0.80088973],\n",
       "       [-3.58141958]])"
      ]
     },
     "execution_count": 7,
     "metadata": {},
     "output_type": "execute_result"
    }
   ],
   "source": [
    "theta = np.linalg.inv(x.T@x) @ (x.T@y)\n",
    "theta"
   ]
  },
  {
   "cell_type": "code",
   "execution_count": 20,
   "id": "3e87f9ee-0c34-443d-9ed2-6acbc5db631b",
   "metadata": {
    "scrolled": true
   },
   "outputs": [
    {
     "data": {
      "text/plain": [
       "array([[15.4158866 ],\n",
       "       [33.12784222],\n",
       "       [25.38275925],\n",
       "       [19.71496568],\n",
       "       [19.61882663],\n",
       "       [28.81774404],\n",
       "       [17.70737047]])"
      ]
     },
     "execution_count": 20,
     "metadata": {},
     "output_type": "execute_result"
    }
   ],
   "source": [
    "yhat=x@theta\n",
    "yhat[:7]"
   ]
  },
  {
   "cell_type": "code",
   "execution_count": 19,
   "id": "569f9dba-9424-4654-8864-e136cc131342",
   "metadata": {
    "scrolled": true
   },
   "outputs": [
    {
     "data": {
      "text/plain": [
       "array([[15.6],\n",
       "       [30.3],\n",
       "       [29.8],\n",
       "       [18.6],\n",
       "       [27.1],\n",
       "       [31.2],\n",
       "       [17.8]])"
      ]
     },
     "execution_count": 19,
     "metadata": {},
     "output_type": "execute_result"
    }
   ],
   "source": [
    "y[:7]"
   ]
  },
  {
   "cell_type": "markdown",
   "id": "806b8a3c-ff2c-452d-b26c-0b20bdd02b13",
   "metadata": {},
   "source": [
    "==========================================================================================================="
   ]
  },
  {
   "cell_type": "markdown",
   "id": "8c2f4051-4da5-41f4-b22f-f78ade4c2cba",
   "metadata": {},
   "source": [
    "TESTING"
   ]
  },
  {
   "cell_type": "markdown",
   "id": "ba6e7b3c-22d2-4050-a1bd-c7ea77395301",
   "metadata": {},
   "source": [
    "==========================================================================================================="
   ]
  },
  {
   "cell_type": "code",
   "execution_count": 10,
   "id": "2dc9eb7f-7f2e-4999-a7a2-e06063eaeaa2",
   "metadata": {
    "scrolled": true
   },
   "outputs": [
    {
     "name": "stdout",
     "output_type": "stream",
     "text": [
      "(102, 14)\n",
      "(102, 1)\n"
     ]
    },
    {
     "data": {
      "text/plain": [
       "array([[15.29250963],\n",
       "       [20.58506578],\n",
       "       [19.6867549 ],\n",
       "       [26.82986864],\n",
       "       [16.76756153]])"
      ]
     },
     "execution_count": 10,
     "metadata": {},
     "output_type": "execute_result"
    }
   ],
   "source": [
    "x_test=test_df.drop(columns=\"MEDV\").to_numpy(dtype=float)\n",
    "y_test=test_df[\"MEDV\"].values.reshape(-1,1)\n",
    "\n",
    "mean_test = np.mean(x_test, axis=0)\n",
    "std_test = np.std(x_test, axis=0)\n",
    "features_scaled_test = (x_test - mean_test) / std_test\n",
    "\n",
    "bias = np.ones((x_test.shape[0], 1))\n",
    "x_test_scaled = np.concatenate([bias, features_scaled_test], axis=1)\n",
    "\n",
    "x_test = x_test_scaled\n",
    "print(x_test.shape)\n",
    "print(y_test.shape)\n",
    "yhat_test=x_test@theta\n",
    "yhat_test[:5]"
   ]
  },
  {
   "cell_type": "markdown",
   "id": "ee068cef",
   "metadata": {},
   "source": [
    "R² Score for datasets without Ridge Regression"
   ]
  },
  {
   "cell_type": "code",
   "execution_count": 34,
   "id": "753ac744-8635-4037-acef-822bcde2c1fb",
   "metadata": {},
   "outputs": [
    {
     "name": "stdout",
     "output_type": "stream",
     "text": [
      "R² Score for Training dataset: 0.7461381930613034\n",
      "R² Score for Testing dataset: 0.6988614483458049\n"
     ]
    }
   ],
   "source": [
    "SS_res = np.sum((y - yhat) ** 2)\n",
    "SS_tot = np.sum((y - np.mean(y)) ** 2)\n",
    "R_sq = 1 - (SS_res / SS_tot)\n",
    "print(\"R² Score for Training dataset:\", R_sq)\n",
    "SS_res = np.sum((y_test - yhat_test) ** 2)\n",
    "SS_tot = np.sum((y_test - np.mean(y_test)) ** 2)\n",
    "R_sq = 1 - (SS_res / SS_tot)\n",
    "print(\"R² Score for Testing dataset:\", R_sq)"
   ]
  },
  {
   "cell_type": "markdown",
   "id": "c30b7c97",
   "metadata": {},
   "source": [
    "Ridge Regression"
   ]
  },
  {
   "cell_type": "code",
   "execution_count": 27,
   "id": "d6c72ddf-5130-49f2-abae-eb0cf0340a52",
   "metadata": {},
   "outputs": [],
   "source": [
    "def ridge(alpha,x,y):\n",
    "    n_features = x.shape[1]\n",
    "    I = np.eye(n_features)\n",
    "    I[0, 0] = 0\n",
    "    beta = np.linalg.inv(x.T@x + alpha * I) @ x.T@y\n",
    "    return beta"
   ]
  },
  {
   "cell_type": "code",
   "execution_count": 32,
   "id": "c33d3f99-36bc-4790-bfbc-27a4ec426220",
   "metadata": {
    "scrolled": true
   },
   "outputs": [
    {
     "name": "stdout",
     "output_type": "stream",
     "text": [
      "[[15.41625754]\n",
      " [33.12789248]\n",
      " [25.38244523]\n",
      " [19.7152244 ]\n",
      " [19.61907665]\n",
      " [28.8180207 ]\n",
      " [17.70754569]] \n",
      "\n",
      "[[16.35459725]\n",
      " [25.46199168]\n",
      " [21.85525655]\n",
      " [25.7797256 ]\n",
      " [15.48763657]\n",
      " [20.51366158]\n",
      " [25.30611436]]\n"
     ]
    }
   ],
   "source": [
    "yhat_ridge=x@ridge(0.01,x,y)\n",
    "yhat_ridge_test=x_test @ ridge(0.01,x_test,y_test)\n",
    "print(yhat_ridge[:7],\"\\n\")\n",
    "print(yhat_ridge_test[:7])"
   ]
  },
  {
   "cell_type": "code",
   "execution_count": 31,
   "id": "ab515f5a-f380-4c12-820d-bc295119938f",
   "metadata": {
    "scrolled": true
   },
   "outputs": [
    {
     "name": "stdout",
     "output_type": "stream",
     "text": [
      "[[15.6]\n",
      " [30.3]\n",
      " [29.8]\n",
      " [18.6]\n",
      " [27.1]\n",
      " [31.2]\n",
      " [17.8]] \n",
      "\n",
      "[[10.2]\n",
      " [21.4]\n",
      " [23. ]\n",
      " [23.3]\n",
      " [14.3]\n",
      " [17. ]\n",
      " [33. ]]\n"
     ]
    }
   ],
   "source": [
    "print(y[:7],\"\\n\")\n",
    "print(y_test[:7])"
   ]
  },
  {
   "cell_type": "markdown",
   "id": "5bf36ad1",
   "metadata": {},
   "source": [
    "R² Score for datasets using Ridge Regression"
   ]
  },
  {
   "cell_type": "code",
   "execution_count": 26,
   "id": "63b6b2ad-d0e3-4615-a8a2-b1c75e6416f1",
   "metadata": {},
   "outputs": [
    {
     "name": "stdout",
     "output_type": "stream",
     "text": [
      "R² Score for Training dataset: 0.7461381914343319\n",
      "R² Score for Testing dataset: 0.7596035002133408\n"
     ]
    }
   ],
   "source": [
    "SS_res = np.sum((y - yhat_ridge) ** 2)\n",
    "SS_tot = np.sum((y - np.mean(y)) ** 2)\n",
    "R_sq = 1 - (SS_res / SS_tot)\n",
    "print(\"R² Score for Training dataset:\", R_sq)\n",
    "SS_res = np.sum((y_test - yhat_ridge_test) ** 2)\n",
    "SS_tot = np.sum((y_test - np.mean(y_test)) ** 2)\n",
    "R_sq = 1 - (SS_res / SS_tot)\n",
    "print(\"R² Score for Testing dataset:\", R_sq)"
   ]
  },
  {
   "cell_type": "code",
   "execution_count": null,
   "id": "7caefe29",
   "metadata": {},
   "outputs": [],
   "source": []
  }
 ],
 "metadata": {
  "kernelspec": {
   "display_name": "base",
   "language": "python",
   "name": "python3"
  },
  "language_info": {
   "codemirror_mode": {
    "name": "ipython",
    "version": 3
   },
   "file_extension": ".py",
   "mimetype": "text/x-python",
   "name": "python",
   "nbconvert_exporter": "python",
   "pygments_lexer": "ipython3",
   "version": "3.12.7"
  }
 },
 "nbformat": 4,
 "nbformat_minor": 5
}
